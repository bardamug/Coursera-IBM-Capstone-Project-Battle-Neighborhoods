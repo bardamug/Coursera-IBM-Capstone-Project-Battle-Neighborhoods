{
 "cells": [
  {
   "cell_type": "markdown",
   "metadata": {},
   "source": [
    "# In progress -  The Battle of Neighborhoods"
   ]
  },
  {
   "cell_type": "markdown",
   "metadata": {},
   "source": [
    "## Week 1"
   ]
  },
  {
   "cell_type": "markdown",
   "metadata": {},
   "source": [
    "### Presentation of Problem, project approach, and data/map retrieval"
   ]
  },
  {
   "cell_type": "markdown",
   "metadata": {},
   "source": [
    "#### Pre-project: selecting a city to analysis"
   ]
  },
  {
   "cell_type": "markdown",
   "metadata": {},
   "source": [
    "After exploring North-America cities; I would like to explore data in Europe. \n",
    "As pre-project preparation I browsed Foursquare reviews about the city of Paris (when I am from) and found out that data was not up to date (200 reviews for the Tour Eiffel, back to 2018...). So let's go to London which seems to have a larger Foursquare users base.\n"
   ]
  },
  {
   "cell_type": "markdown",
   "metadata": {},
   "source": [
    "#### Deciding where to open a new venue in London (outside Inner City Limits)"
   ]
  },
  {
   "cell_type": "markdown",
   "metadata": {},
   "source": [
    "London is a great city. It is diverse, multicultural and full of opportunities. But there is also another side to its popularity and appeal. London is an expensive place to live and thrive. Many businesses want to open a venue here and many pay top price to have their window on Piccadilly or Oxford Street. But what about those, who want to start their own business and cannot really afford to open in the City yet? Where is it best to open a new place? Where will it be cheapest and will have enough people living around to be popular? Where the competition is not too overwhelming?\n",
    "\n",
    "London, capital of United-Kingdom is a large city; actually much larger than Toronto but smaller than New-York. It shares with them similar characteristics: London is multicultural, modern, full of leisure opportunities  and is an attractive business market place.\n",
    "Like in all big cities, it is very very expensive to run a venue in the most popular Boroughs; so venues owners need to have full understanding of business opportunities before lannching/investing in their companies. Like the famous UK TV show \"Location, location, location!\", location is the most important criteria for any property and therefore business investment. So we will use data, maps and data science tools to analysis where is(are) the best place (s) to have a venue in London.\n",
    "\n",
    "We will answer all questions below and we will use next plan:\n",
    "\n",
    "\n",
    "Week1\n",
    "1. Retrieve data about London Boroughs, area and population using web page scrapping\n",
    "2. Filter boroughs to get the extract best ones in depth analysis\n",
    "3. Create Initial foliam map centred on London\n",
    "\n",
    "\n",
    "Week2\n",
    "4. Connect to Foursquare API to obtain data about most popular venues\n",
    "5. Find optimised number of clusters\n",
    "6. Visualization with Chloropleth Map\n",
    "7. Analysis and discussion\n",
    "8. Conclusion\n"
   ]
  },
  {
   "cell_type": "markdown",
   "metadata": {},
   "source": [
    "Retrieve data on London Boroughs using web page scrapping on wikepedia London page"
   ]
  },
  {
   "cell_type": "code",
   "execution_count": 3,
   "metadata": {},
   "outputs": [
    {
     "data": {
      "text/html": [
       "<div>\n",
       "<style scoped>\n",
       "    .dataframe tbody tr th:only-of-type {\n",
       "        vertical-align: middle;\n",
       "    }\n",
       "\n",
       "    .dataframe tbody tr th {\n",
       "        vertical-align: top;\n",
       "    }\n",
       "\n",
       "    .dataframe thead th {\n",
       "        text-align: right;\n",
       "    }\n",
       "</style>\n",
       "<table border=\"1\" class=\"dataframe\">\n",
       "  <thead>\n",
       "    <tr style=\"text-align: right;\">\n",
       "      <th></th>\n",
       "      <th>Borough</th>\n",
       "      <th>Inner</th>\n",
       "      <th>Status</th>\n",
       "      <th>Local authority</th>\n",
       "      <th>Political control</th>\n",
       "      <th>Headquarters</th>\n",
       "      <th>Area (sq mi)</th>\n",
       "      <th>Population (2013 est)[1]</th>\n",
       "      <th>Co-ordinates</th>\n",
       "      <th>Nr. in map</th>\n",
       "    </tr>\n",
       "  </thead>\n",
       "  <tbody>\n",
       "    <tr>\n",
       "      <th>0</th>\n",
       "      <td>Barking and Dagenham [note 1]</td>\n",
       "      <td>NaN</td>\n",
       "      <td>NaN</td>\n",
       "      <td>Barking and Dagenham London Borough Council</td>\n",
       "      <td>Labour</td>\n",
       "      <td>Town Hall, 1 Town Square</td>\n",
       "      <td>13.93</td>\n",
       "      <td>194352</td>\n",
       "      <td>51°33′39″N 0°09′21″E﻿ / ﻿51.5607°N 0.1557°E</td>\n",
       "      <td>25</td>\n",
       "    </tr>\n",
       "    <tr>\n",
       "      <th>1</th>\n",
       "      <td>Barnet</td>\n",
       "      <td>NaN</td>\n",
       "      <td>NaN</td>\n",
       "      <td>Barnet London Borough Council</td>\n",
       "      <td>Conservative</td>\n",
       "      <td>Barnet House, 2 Bristol Avenue, Colindale</td>\n",
       "      <td>33.49</td>\n",
       "      <td>369088</td>\n",
       "      <td>51°37′31″N 0°09′06″W﻿ / ﻿51.6252°N 0.1517°W</td>\n",
       "      <td>31</td>\n",
       "    </tr>\n",
       "    <tr>\n",
       "      <th>2</th>\n",
       "      <td>Bexley</td>\n",
       "      <td>NaN</td>\n",
       "      <td>NaN</td>\n",
       "      <td>Bexley London Borough Council</td>\n",
       "      <td>Conservative</td>\n",
       "      <td>Civic Offices, 2 Watling Street</td>\n",
       "      <td>23.38</td>\n",
       "      <td>236687</td>\n",
       "      <td>51°27′18″N 0°09′02″E﻿ / ﻿51.4549°N 0.1505°E</td>\n",
       "      <td>23</td>\n",
       "    </tr>\n",
       "    <tr>\n",
       "      <th>3</th>\n",
       "      <td>Brent</td>\n",
       "      <td>NaN</td>\n",
       "      <td>NaN</td>\n",
       "      <td>Brent London Borough Council</td>\n",
       "      <td>Labour</td>\n",
       "      <td>Brent Civic Centre, Engineers Way</td>\n",
       "      <td>16.70</td>\n",
       "      <td>317264</td>\n",
       "      <td>51°33′32″N 0°16′54″W﻿ / ﻿51.5588°N 0.2817°W</td>\n",
       "      <td>12</td>\n",
       "    </tr>\n",
       "    <tr>\n",
       "      <th>4</th>\n",
       "      <td>Bromley</td>\n",
       "      <td>NaN</td>\n",
       "      <td>NaN</td>\n",
       "      <td>Bromley London Borough Council</td>\n",
       "      <td>Conservative</td>\n",
       "      <td>Civic Centre, Stockwell Close</td>\n",
       "      <td>57.97</td>\n",
       "      <td>317899</td>\n",
       "      <td>51°24′14″N 0°01′11″E﻿ / ﻿51.4039°N 0.0198°E</td>\n",
       "      <td>20</td>\n",
       "    </tr>\n",
       "  </tbody>\n",
       "</table>\n",
       "</div>"
      ],
      "text/plain": [
       "                         Borough Inner Status  \\\n",
       "0  Barking and Dagenham [note 1]   NaN    NaN   \n",
       "1                         Barnet   NaN    NaN   \n",
       "2                         Bexley   NaN    NaN   \n",
       "3                          Brent   NaN    NaN   \n",
       "4                        Bromley   NaN    NaN   \n",
       "\n",
       "                               Local authority Political control  \\\n",
       "0  Barking and Dagenham London Borough Council            Labour   \n",
       "1                Barnet London Borough Council      Conservative   \n",
       "2                Bexley London Borough Council      Conservative   \n",
       "3                 Brent London Borough Council            Labour   \n",
       "4               Bromley London Borough Council      Conservative   \n",
       "\n",
       "                                Headquarters  Area (sq mi)  \\\n",
       "0                   Town Hall, 1 Town Square         13.93   \n",
       "1  Barnet House, 2 Bristol Avenue, Colindale         33.49   \n",
       "2            Civic Offices, 2 Watling Street         23.38   \n",
       "3          Brent Civic Centre, Engineers Way         16.70   \n",
       "4              Civic Centre, Stockwell Close         57.97   \n",
       "\n",
       "   Population (2013 est)[1]                                 Co-ordinates  \\\n",
       "0                    194352  51°33′39″N 0°09′21″E﻿ / ﻿51.5607°N 0.1557°E   \n",
       "1                    369088  51°37′31″N 0°09′06″W﻿ / ﻿51.6252°N 0.1517°W   \n",
       "2                    236687  51°27′18″N 0°09′02″E﻿ / ﻿51.4549°N 0.1505°E   \n",
       "3                    317264  51°33′32″N 0°16′54″W﻿ / ﻿51.5588°N 0.2817°W   \n",
       "4                    317899  51°24′14″N 0°01′11″E﻿ / ﻿51.4039°N 0.0198°E   \n",
       "\n",
       "   Nr. in map  \n",
       "0          25  \n",
       "1          31  \n",
       "2          23  \n",
       "3          12  \n",
       "4          20  "
      ]
     },
     "execution_count": 3,
     "metadata": {},
     "output_type": "execute_result"
    }
   ],
   "source": [
    "from geopy.geocoders import Nominatim\n",
    "import matplotlib.pyplot as plt\n",
    "import seaborn as sns\n",
    "import pandas as pd\n",
    "import numpy as np\n",
    "import requests\n",
    "from sklearn.cluster import KMeans\n",
    "import matplotlib.cm as cm\n",
    "import matplotlib.colors as colors\n",
    "\n",
    "\n",
    "url='https://en.wikipedia.org/wiki/List_of_London_boroughs'\n",
    "\n",
    "LDF=pd.read_html(url, header=0)[0]\n",
    "\n",
    "LDF.head()"
   ]
  },
  {
   "cell_type": "markdown",
   "metadata": {},
   "source": [
    "Clean dataframe: Drop columsn not used; rename some boroughs because of bad qualiy data from wiki page (note 1). "
   ]
  },
  {
   "cell_type": "code",
   "execution_count": 5,
   "metadata": {},
   "outputs": [
    {
     "data": {
      "text/html": [
       "<div>\n",
       "<style scoped>\n",
       "    .dataframe tbody tr th:only-of-type {\n",
       "        vertical-align: middle;\n",
       "    }\n",
       "\n",
       "    .dataframe tbody tr th {\n",
       "        vertical-align: top;\n",
       "    }\n",
       "\n",
       "    .dataframe thead th {\n",
       "        text-align: right;\n",
       "    }\n",
       "</style>\n",
       "<table border=\"1\" class=\"dataframe\">\n",
       "  <thead>\n",
       "    <tr style=\"text-align: right;\">\n",
       "      <th></th>\n",
       "      <th>Borough</th>\n",
       "      <th>Inner</th>\n",
       "      <th>Area (sq mi)</th>\n",
       "      <th>Population (2013 est)[1]</th>\n",
       "      <th>Co-ordinates</th>\n",
       "    </tr>\n",
       "  </thead>\n",
       "  <tbody>\n",
       "    <tr>\n",
       "      <th>0</th>\n",
       "      <td>Barking and Dagenham</td>\n",
       "      <td>0</td>\n",
       "      <td>13.93</td>\n",
       "      <td>194352</td>\n",
       "      <td>51°33′39″N 0°09′21″E﻿ / ﻿51.5607°N 0.1557°E</td>\n",
       "    </tr>\n",
       "    <tr>\n",
       "      <th>1</th>\n",
       "      <td>Barnet</td>\n",
       "      <td>0</td>\n",
       "      <td>33.49</td>\n",
       "      <td>369088</td>\n",
       "      <td>51°37′31″N 0°09′06″W﻿ / ﻿51.6252°N 0.1517°W</td>\n",
       "    </tr>\n",
       "    <tr>\n",
       "      <th>2</th>\n",
       "      <td>Bexley</td>\n",
       "      <td>0</td>\n",
       "      <td>23.38</td>\n",
       "      <td>236687</td>\n",
       "      <td>51°27′18″N 0°09′02″E﻿ / ﻿51.4549°N 0.1505°E</td>\n",
       "    </tr>\n",
       "    <tr>\n",
       "      <th>3</th>\n",
       "      <td>Brent</td>\n",
       "      <td>0</td>\n",
       "      <td>16.70</td>\n",
       "      <td>317264</td>\n",
       "      <td>51°33′32″N 0°16′54″W﻿ / ﻿51.5588°N 0.2817°W</td>\n",
       "    </tr>\n",
       "    <tr>\n",
       "      <th>4</th>\n",
       "      <td>Bromley</td>\n",
       "      <td>0</td>\n",
       "      <td>57.97</td>\n",
       "      <td>317899</td>\n",
       "      <td>51°24′14″N 0°01′11″E﻿ / ﻿51.4039°N 0.0198°E</td>\n",
       "    </tr>\n",
       "  </tbody>\n",
       "</table>\n",
       "</div>"
      ],
      "text/plain": [
       "                Borough Inner  Area (sq mi)  Population (2013 est)[1]  \\\n",
       "0  Barking and Dagenham     0         13.93                    194352   \n",
       "1                Barnet     0         33.49                    369088   \n",
       "2                Bexley     0         23.38                    236687   \n",
       "3                 Brent     0         16.70                    317264   \n",
       "4               Bromley     0         57.97                    317899   \n",
       "\n",
       "                                  Co-ordinates  \n",
       "0  51°33′39″N 0°09′21″E﻿ / ﻿51.5607°N 0.1557°E  \n",
       "1  51°37′31″N 0°09′06″W﻿ / ﻿51.6252°N 0.1517°W  \n",
       "2  51°27′18″N 0°09′02″E﻿ / ﻿51.4549°N 0.1505°E  \n",
       "3  51°33′32″N 0°16′54″W﻿ / ﻿51.5588°N 0.2817°W  \n",
       "4  51°24′14″N 0°01′11″E﻿ / ﻿51.4039°N 0.0198°E  "
      ]
     },
     "execution_count": 5,
     "metadata": {},
     "output_type": "execute_result"
    }
   ],
   "source": [
    "LF = LDF.drop(['Status','Local authority','Political control','Headquarters','Nr. in map'], axis=1)\n",
    "LF['Inner'].replace(np.nan,'0', inplace=True)\n",
    "LF['Borough'].replace('Barking and Dagenham [note 1]','Barking and Dagenham', inplace=True)\n",
    "LF['Borough'].replace('Greenwich [note 2]','Greenwich', inplace=True)\n",
    "LF['Borough'].replace('Hammersmith and Fulham [note 4]','Hammersmith and Fulham', inplace=True)\n",
    "Inn = ['Camden','Greenwich','Hackney','Hammersmith and Fulham','Islington','Kensington and Chelsea','Lewisham','Lambeth','Southwark','Tower Hamlets','Wandsworth','Westminster']\n",
    "LF.head()\n",
    "LF['Inner'] = '0'\n",
    "LF.head()"
   ]
  },
  {
   "cell_type": "markdown",
   "metadata": {},
   "source": [
    "Because of huge difference in rent price, as well as the ammount of venues in London, we will filter to have only the outer boroughs going forward\n"
   ]
  },
  {
   "cell_type": "code",
   "execution_count": 8,
   "metadata": {},
   "outputs": [
    {
     "data": {
      "text/html": [
       "<div>\n",
       "<style scoped>\n",
       "    .dataframe tbody tr th:only-of-type {\n",
       "        vertical-align: middle;\n",
       "    }\n",
       "\n",
       "    .dataframe tbody tr th {\n",
       "        vertical-align: top;\n",
       "    }\n",
       "\n",
       "    .dataframe thead th {\n",
       "        text-align: right;\n",
       "    }\n",
       "</style>\n",
       "<table border=\"1\" class=\"dataframe\">\n",
       "  <thead>\n",
       "    <tr style=\"text-align: right;\">\n",
       "      <th></th>\n",
       "      <th>Borough</th>\n",
       "      <th>Area</th>\n",
       "      <th>Population</th>\n",
       "      <th>Co-ordinates</th>\n",
       "      <th>Latitude</th>\n",
       "      <th>Longitude</th>\n",
       "    </tr>\n",
       "  </thead>\n",
       "  <tbody>\n",
       "    <tr>\n",
       "      <th>0</th>\n",
       "      <td>Barking and Dagenham</td>\n",
       "      <td>13.93</td>\n",
       "      <td>194352</td>\n",
       "      <td>(51.5541171, 0.15050434261994267)</td>\n",
       "      <td>51.554117</td>\n",
       "      <td>0.150504</td>\n",
       "    </tr>\n",
       "    <tr>\n",
       "      <th>1</th>\n",
       "      <td>Barnet</td>\n",
       "      <td>33.49</td>\n",
       "      <td>369088</td>\n",
       "      <td>(51.65309, -0.2002261)</td>\n",
       "      <td>51.653090</td>\n",
       "      <td>-0.200226</td>\n",
       "    </tr>\n",
       "    <tr>\n",
       "      <th>2</th>\n",
       "      <td>Bexley</td>\n",
       "      <td>23.38</td>\n",
       "      <td>236687</td>\n",
       "      <td>(-43.5110351, 172.7183763)</td>\n",
       "      <td>-43.511035</td>\n",
       "      <td>172.718376</td>\n",
       "    </tr>\n",
       "    <tr>\n",
       "      <th>3</th>\n",
       "      <td>Brent</td>\n",
       "      <td>16.70</td>\n",
       "      <td>317264</td>\n",
       "      <td>(32.9373463, -87.1647184)</td>\n",
       "      <td>32.937346</td>\n",
       "      <td>-87.164718</td>\n",
       "    </tr>\n",
       "    <tr>\n",
       "      <th>4</th>\n",
       "      <td>Bromley</td>\n",
       "      <td>57.97</td>\n",
       "      <td>317899</td>\n",
       "      <td>(51.4028046, 0.0148142)</td>\n",
       "      <td>51.402805</td>\n",
       "      <td>0.014814</td>\n",
       "    </tr>\n",
       "  </tbody>\n",
       "</table>\n",
       "</div>"
      ],
      "text/plain": [
       "                Borough   Area  Population                       Co-ordinates  \\\n",
       "0  Barking and Dagenham  13.93      194352  (51.5541171, 0.15050434261994267)   \n",
       "1                Barnet  33.49      369088             (51.65309, -0.2002261)   \n",
       "2                Bexley  23.38      236687         (-43.5110351, 172.7183763)   \n",
       "3                 Brent  16.70      317264          (32.9373463, -87.1647184)   \n",
       "4               Bromley  57.97      317899            (51.4028046, 0.0148142)   \n",
       "\n",
       "    Latitude   Longitude  \n",
       "0  51.554117    0.150504  \n",
       "1  51.653090   -0.200226  \n",
       "2 -43.511035  172.718376  \n",
       "3  32.937346  -87.164718  \n",
       "4  51.402805    0.014814  "
      ]
     },
     "execution_count": 8,
     "metadata": {},
     "output_type": "execute_result"
    }
   ],
   "source": [
    "LF['Inner'] = LF.Borough.isin(Inn).astype(int)\n",
    "Out = LF[LF.Inner == 0]\n",
    "Out = Out.drop(['Inner'], axis=1)\n",
    "df = Out.rename(columns = {\"Area (sq mi)\": \"Area\", \n",
    "                            \"Population (2013 est)[1]\":\"Population\"})\n",
    "geolocator = Nominatim(user_agent=\"London_explorer\")\n",
    "df['Co-ordinates']= df['Borough'].apply(geolocator.geocode).apply(lambda x: (x.latitude, x.longitude))\n",
    "df[['Latitude', 'Longitude']] = df['Co-ordinates'].apply(pd.Series)\n",
    "df.head()"
   ]
  },
  {
   "cell_type": "markdown",
   "metadata": {},
   "source": [
    "We need to edit the coordinates, that are incorrect. We have to filter the set even more - because rent price is a big issue for the new business, we will get the boroughs with the lowest ones."
   ]
  },
  {
   "cell_type": "code",
   "execution_count": 9,
   "metadata": {},
   "outputs": [
    {
     "name": "stdout",
     "output_type": "stream",
     "text": [
      "Old latitude list:  [51.5541171, -43.5110351, 51.4028046, 51.6520851, 51.587929849999995, 51.0043613, 51.41086985, 51.5763203]\n",
      "Old Longitude list:  [0.15050434261994267, 172.7183763, 0.0148142, -0.0810175, -0.10541010599099046, -2.337474942629507, -0.18809708858824303, 0.0454097]\n"
     ]
    },
    {
     "data": {
      "text/html": [
       "<div>\n",
       "<style scoped>\n",
       "    .dataframe tbody tr th:only-of-type {\n",
       "        vertical-align: middle;\n",
       "    }\n",
       "\n",
       "    .dataframe tbody tr th {\n",
       "        vertical-align: top;\n",
       "    }\n",
       "\n",
       "    .dataframe thead th {\n",
       "        text-align: right;\n",
       "    }\n",
       "</style>\n",
       "<table border=\"1\" class=\"dataframe\">\n",
       "  <thead>\n",
       "    <tr style=\"text-align: right;\">\n",
       "      <th></th>\n",
       "      <th>Borough</th>\n",
       "      <th>Area</th>\n",
       "      <th>Population</th>\n",
       "      <th>Latitude</th>\n",
       "      <th>Max_Rent</th>\n",
       "      <th>Longitude</th>\n",
       "    </tr>\n",
       "  </thead>\n",
       "  <tbody>\n",
       "    <tr>\n",
       "      <th>0</th>\n",
       "      <td>Barking and Dagenham</td>\n",
       "      <td>13.93</td>\n",
       "      <td>194352</td>\n",
       "      <td>51.554117</td>\n",
       "      <td>102.25</td>\n",
       "      <td>0.150504</td>\n",
       "    </tr>\n",
       "    <tr>\n",
       "      <th>2</th>\n",
       "      <td>Bexley</td>\n",
       "      <td>23.38</td>\n",
       "      <td>236687</td>\n",
       "      <td>-43.511035</td>\n",
       "      <td>97.00</td>\n",
       "      <td>172.718376</td>\n",
       "    </tr>\n",
       "    <tr>\n",
       "      <th>4</th>\n",
       "      <td>Bromley</td>\n",
       "      <td>57.97</td>\n",
       "      <td>317899</td>\n",
       "      <td>51.402805</td>\n",
       "      <td>118.50</td>\n",
       "      <td>0.014814</td>\n",
       "    </tr>\n",
       "    <tr>\n",
       "      <th>8</th>\n",
       "      <td>Enfield</td>\n",
       "      <td>31.74</td>\n",
       "      <td>320524</td>\n",
       "      <td>51.652085</td>\n",
       "      <td>102.25</td>\n",
       "      <td>-0.081018</td>\n",
       "    </tr>\n",
       "    <tr>\n",
       "      <th>12</th>\n",
       "      <td>Haringey</td>\n",
       "      <td>11.42</td>\n",
       "      <td>263386</td>\n",
       "      <td>51.587930</td>\n",
       "      <td>107.75</td>\n",
       "      <td>-0.105410</td>\n",
       "    </tr>\n",
       "    <tr>\n",
       "      <th>14</th>\n",
       "      <td>Havering</td>\n",
       "      <td>43.35</td>\n",
       "      <td>242080</td>\n",
       "      <td>51.004361</td>\n",
       "      <td>86.00</td>\n",
       "      <td>-2.337475</td>\n",
       "    </tr>\n",
       "    <tr>\n",
       "      <th>22</th>\n",
       "      <td>Merton</td>\n",
       "      <td>14.52</td>\n",
       "      <td>203223</td>\n",
       "      <td>51.410870</td>\n",
       "      <td>123.75</td>\n",
       "      <td>-0.188097</td>\n",
       "    </tr>\n",
       "    <tr>\n",
       "      <th>24</th>\n",
       "      <td>Redbridge</td>\n",
       "      <td>21.78</td>\n",
       "      <td>288272</td>\n",
       "      <td>51.576320</td>\n",
       "      <td>118.50</td>\n",
       "      <td>0.045410</td>\n",
       "    </tr>\n",
       "  </tbody>\n",
       "</table>\n",
       "</div>"
      ],
      "text/plain": [
       "                 Borough   Area  Population   Latitude  Max_Rent   Longitude\n",
       "0   Barking and Dagenham  13.93      194352  51.554117    102.25    0.150504\n",
       "2                 Bexley  23.38      236687 -43.511035     97.00  172.718376\n",
       "4                Bromley  57.97      317899  51.402805    118.50    0.014814\n",
       "8                Enfield  31.74      320524  51.652085    102.25   -0.081018\n",
       "12              Haringey  11.42      263386  51.587930    107.75   -0.105410\n",
       "14              Havering  43.35      242080  51.004361     86.00   -2.337475\n",
       "22                Merton  14.52      203223  51.410870    123.75   -0.188097\n",
       "24             Redbridge  21.78      288272  51.576320    118.50    0.045410"
      ]
     },
     "execution_count": 9,
     "metadata": {},
     "output_type": "execute_result"
    }
   ],
   "source": [
    "Max_Rent = ['102.25','150.75','97','150.75','118.5','129.25','140','102.25','107.75','140','86','161.5','161.5','140','123.75','134.5','118.5','140','129.25','145.25']\n",
    "df['Max_Rent'] = Max_Rent\n",
    "\n",
    "df[\"Max_Rent\"] = pd.to_numeric(df[\"Max_Rent\"])\n",
    "fin = df[df.Max_Rent <= 125]\n",
    "fin\n",
    "\n",
    "Long_list = fin['Longitude'].tolist()\n",
    "Lat_list = fin['Latitude'].tolist()\n",
    "print (\"Old latitude list: \", Lat_list)\n",
    "print (\"Old Longitude list: \", Long_list)\n",
    "\n",
    "replace_longitudes = {-106.6621329:0.0799, -2.8417544: 0.1837}\n",
    "replace_latitudes = {50.7164496:51.6636, 51.0358628: 51.5499}\n",
    "\n",
    "longtitudes_new = [replace_longitudes.get(n7,n7) for n7 in Long_list]\n",
    "latitudes_new = [replace_latitudes.get(n7,n7) for n7 in Lat_list]\n",
    "\n",
    "fin = fin.drop(['Co-ordinates', 'Longitude'], axis=1)\n",
    "\n",
    "fin['Longitude'] = longtitudes_new\n",
    "fin['Latitude'] = latitudes_new\n",
    "fin"
   ]
  },
  {
   "cell_type": "code",
   "execution_count": 14,
   "metadata": {},
   "outputs": [
    {
     "name": "stdout",
     "output_type": "stream",
     "text": [
      "We will make in depth analysis on 8 London Boroughs\n"
     ]
    }
   ],
   "source": [
    "print(\"We will make in depth analysis on\", fin.shape[0],\"London Boroughs\")"
   ]
  },
  {
   "cell_type": "markdown",
   "metadata": {},
   "source": [
    "We will now make a London map.\n",
    "Fistly we need to find London geo coordinates"
   ]
  },
  {
   "cell_type": "code",
   "execution_count": 15,
   "metadata": {},
   "outputs": [
    {
     "name": "stdout",
     "output_type": "stream",
     "text": [
      "The geograpical coordinates of London are 51.5073219, -0.1276474.\n"
     ]
    }
   ],
   "source": [
    "address = 'London'\n",
    "\n",
    "geolocator = Nominatim(user_agent=\"London_explorer\")\n",
    "location = geolocator.geocode(address)\n",
    "London_latitude = location.latitude\n",
    "London_longitude = location.longitude\n",
    "print('The geograpical coordinates of London are {}, {}.'.format(London_latitude, London_longitude))"
   ]
  },
  {
   "cell_type": "markdown",
   "metadata": {},
   "source": [
    "Create London map using Folium"
   ]
  },
  {
   "cell_type": "code",
   "execution_count": 16,
   "metadata": {},
   "outputs": [
    {
     "data": {
      "text/html": [
       "<div style=\"width:100%;\"><div style=\"position:relative;width:100%;height:0;padding-bottom:60%;\"><span style=\"color:#565656\">Make this Notebook Trusted to load map: File -> Trust Notebook</span><iframe src=\"about:blank\" style=\"position:absolute;width:100%;height:100%;left:0;top:0;border:none !important;\" data-html=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 onload=\"this.contentDocument.open();this.contentDocument.write(atob(this.getAttribute('data-html')));this.contentDocument.close();\" allowfullscreen webkitallowfullscreen mozallowfullscreen></iframe></div></div>"
      ],
      "text/plain": [
       "<folium.folium.Map at 0x1bca11d8>"
      ]
     },
     "execution_count": 16,
     "metadata": {},
     "output_type": "execute_result"
    }
   ],
   "source": [
    "# import Folium map rendering librairy\n",
    "import folium\n",
    "\n",
    "Fin_Brgh = folium.Map(location=[London_latitude, London_longitude], zoom_start=12)\n",
    "\n",
    "\n",
    "for lat, lng, label in zip(fin['Latitude'], fin['Longitude'], \n",
    "                            fin['Borough']):\n",
    "    label = folium.Popup(label, parse_html=True)\n",
    "    folium.CircleMarker(\n",
    "        [lat, lng],\n",
    "        radius=9,\n",
    "        popup=label,\n",
    "        color='Red',\n",
    "        fill=True,\n",
    "        fill_color='#Blue',\n",
    "        fill_opacity=0.7).add_to(Fin_Brgh)\n",
    "Fin_Brgh"
   ]
  },
  {
   "cell_type": "code",
   "execution_count": null,
   "metadata": {},
   "outputs": [],
   "source": []
  }
 ],
 "metadata": {
  "kernelspec": {
   "display_name": "Python 3",
   "language": "python",
   "name": "python3"
  },
  "language_info": {
   "codemirror_mode": {
    "name": "ipython",
    "version": 3
   },
   "file_extension": ".py",
   "mimetype": "text/x-python",
   "name": "python",
   "nbconvert_exporter": "python",
   "pygments_lexer": "ipython3",
   "version": "3.8.6"
  }
 },
 "nbformat": 4,
 "nbformat_minor": 4
}
