{
 "cells": [
  {
   "cell_type": "markdown",
   "metadata": {},
   "source": [
    "# The Battle of Neighborhoods"
   ]
  },
  {
   "cell_type": "markdown",
   "metadata": {},
   "source": [
    "## Week 1"
   ]
  },
  {
   "cell_type": "markdown",
   "metadata": {},
   "source": [
    "### Presentation of Problem, project approach, and data/map retrieval"
   ]
  },
  {
   "cell_type": "markdown",
   "metadata": {},
   "source": [
    "#### Pre-project: selecting a city to analysis"
   ]
  },
  {
   "cell_type": "markdown",
   "metadata": {},
   "source": [
    "After exploring North-America cities; I would like to explore data in Europe. \n",
    "As pre-project preparation I browsed Foursquare reviews about the city of Paris (when I am from) and found out that data was not up to date (200 reviews for the Tour Eiffel, back to 2018...). So let's go to London which seems to have a larger Foursquare users base.\n"
   ]
  },
  {
   "cell_type": "markdown",
   "metadata": {},
   "source": [
    "#### Deciding where to open a new venue in London (outside Inner City Limits)"
   ]
  },
  {
   "cell_type": "markdown",
   "metadata": {},
   "source": [
    "London is a great city. It is diverse, multicultural and full of opportunities. But there is also another side to its popularity and appeal. London is an expensive place to live and thrive. Many businesses want to open a venue here and many pay top price to have their window on Piccadilly or Oxford Street. But what about those, who want to start their own business and cannot really afford to open in the City yet? Where is it best to open a new place? Where will it be cheapest and will have enough people living around to be popular? Where the competition is not too overwhelming?\n",
    "\n",
    "London, capital of United-Kingdom is a large city; actually much larger than Toronto but smaller than New-York. It shares with them similar characteristics: London is multicultural, modern, full of leisure opportunities  and is an attractive business market place.\n",
    "Like in all big cities, it is very very expensive to run a venue in the most popular Boroughs; so venues owners need to have full understanding of business opportunities before lannching/investing in their companies. Like the famous UK TV show \"Location, location, location!\", location is the most important criteria for any property and therefore business investment. So we will use data, maps and data science tools to analysis where is(are) the best place (s) to have a venue in London.\n",
    "\n",
    "We will answer all questions below and we will use next plan:\n",
    "\n",
    "\n",
    "Week1\n",
    "1. Retrieve data about London Boroughs, area and population using web page scrapping\n",
    "2. Filter boroughs to get the extract best ones in depth analysis\n",
    "3. Create Initial foliam map centred on London\n",
    "\n",
    "\n",
    "Week2\n",
    "4. Connect to Foursquare API to obtain data about most popular venues\n",
    "5. Find optimised number of clusters\n",
    "6. Visualization with Chloropleth Map\n",
    "7. Analysis and discussion\n",
    "8. Conclusion\n"
   ]
  },
  {
   "cell_type": "code",
   "execution_count": null,
   "metadata": {},
   "outputs": [],
   "source": []
  }
 ],
 "metadata": {
  "kernelspec": {
   "display_name": "Python 3",
   "language": "python",
   "name": "python3"
  },
  "language_info": {
   "codemirror_mode": {
    "name": "ipython",
    "version": 3
   },
   "file_extension": ".py",
   "mimetype": "text/x-python",
   "name": "python",
   "nbconvert_exporter": "python",
   "pygments_lexer": "ipython3",
   "version": "3.8.6"
  }
 },
 "nbformat": 4,
 "nbformat_minor": 4
}
